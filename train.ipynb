{
 "cells": [
  {
   "cell_type": "code",
   "execution_count": 1,
   "metadata": {},
   "outputs": [],
   "source": [
    "import torch\n",
    "import torch.nn as nn\n",
    "from torch.utils.data import Dataset, DataLoader\n",
    "import torch.nn.functional as F\n",
    "import numpy as np\n",
    "from utils import Config, plot_epoch\n",
    "\n",
    "### DATA\n",
    "\n",
    "class mfcc_set(Dataset):\n",
    "    def __init__(self, X, y):\n",
    "        self.X = X\n",
    "        self.y = y\n",
    "\n",
    "    def __len__(self):\n",
    "        return len(self.X)\n",
    "\n",
    "    def __getitem__(self, index):\n",
    "        data = self.X[index:index+1]\n",
    "        # remove dimension 0\n",
    "        data = data.squeeze(0)\n",
    "        label = self.y[index]\n",
    "        return torch.Tensor(data), torch.Tensor(label).type(torch.LongTensor)\n",
    "    \n",
    " "
   ]
  },
  {
   "cell_type": "code",
   "execution_count": 22,
   "metadata": {},
   "outputs": [],
   "source": [
    "hidden_size = 128\n",
    "### MODEL\n",
    "class Model(nn.Module):\n",
    "    '''Model structure\n",
    "    :input: (batch_size, len_seq, num_feature)\n",
    "    \n",
    "    => RNN hidden_state: (2, batch_size, 100)\n",
    "    => Linear(softmax)\n",
    "    \n",
    "    :output: (batch_size, 1, output_size=3)\n",
    "    '''\n",
    "    def __init__(self, input_size, hidden_size, output_size):\n",
    "        super(Model, self).__init__()\n",
    "        \n",
    "        self.input_size = input_size\n",
    "        self.hidden_size = hidden_size\n",
    "        self.output_size = output_size\n",
    "        self.device = torch.device(\"cuda:0\" if torch.cuda.is_available() else \"cpu\")\n",
    "        ## GRU with two layer of hidden layer\n",
    "        self.rnn = nn.GRU(self.input_size, self.hidden_size, num_layers=4, dropout=0.3, batch_first=True).to(self.device)\n",
    "        ## batch normalization\n",
    "        # self.batch = nn.BatchNorm1d(801)\n",
    "        # self.rnn2 = nn.GRU(self.input_size, self.hidden_size, num_layers=2, dropout=0.3, batch_first=True).to(self.device)\n",
    "        ## full connected layer\n",
    "        self.fc = nn.Linear(self.hidden_size, self.output_size).to(self.device)\n",
    "       \n",
    "        \n",
    "    # create function to init state\n",
    "    def init_hidden(self, batch_size):\n",
    "        return torch.zeros(4, batch_size, self.hidden_size)\n",
    "    \n",
    "    def forward(self, x):     \n",
    "        batch_size = x.size(0)\n",
    "        h = self.init_hidden(batch_size).to(self.device)\n",
    "        out, h_out = self.rnn(x, h)\n",
    "        h_out = h_out.to(self.device)\n",
    "        # out = self.batch(out)\n",
    "        # out, h_out = self.rnn2(out,h_out)\n",
    "        out = self.fc(out)\n",
    "        out = out.to(self.device)\n",
    "        \n",
    "        #return out, h\n",
    "        return out\n",
    "        "
   ]
  },
  {
   "cell_type": "markdown",
   "metadata": {},
   "source": [
    "## Train"
   ]
  },
  {
   "cell_type": "code",
   "execution_count": 3,
   "metadata": {},
   "outputs": [],
   "source": [
    "import numpy as np\n",
    "import h5py\n",
    "from utils import Config, plot_epoch\n",
    "import os.path as osp\n",
    "from sklearn.model_selection import train_test_split\n",
    "from tqdm import tqdm\n",
    "\n",
    "import time\n",
    "import copy\n",
    "\n",
    "DEBUG = False\n",
    "if DEBUG:\n",
    "    with h5py.File(Config['hw5_data.hdf5'] , 'r') as hf:\n",
    "        train_data = hf['train_data'][:100]\n",
    "        train_label = hf['train_label'][:100]\n",
    "\n",
    "    train_data, valid_data, train_label, valid_label = train_test_split(train_data, train_label, test_size=0.11, random_state=112)\n",
    "else:\n",
    "    with h5py.File(Config['hw5_data2.hdf5'] , 'r') as hf:\n",
    "        train_data = hf['train_data'][:]\n",
    "        train_label = hf['train_label'][:]\n",
    "   \n",
    "    train_data, valid_data, train_label, valid_label = train_test_split(train_data, train_label, test_size=0.11, random_state=112)\n"
   ]
  },
  {
   "cell_type": "code",
   "execution_count": 4,
   "metadata": {},
   "outputs": [
    {
     "name": "stdout",
     "output_type": "stream",
     "text": [
      "train data type: (19817, 801, 64)\n",
      "valid data type: (2450, 801, 64)\n"
     ]
    }
   ],
   "source": [
    "print(\"train data type:\", train_data.shape)\n",
    "print(\"valid data type:\", valid_data.shape)\n",
    "# print(\"test data type:\", test_data.shape)"
   ]
  },
  {
   "cell_type": "code",
   "execution_count": 34,
   "metadata": {},
   "outputs": [],
   "source": [
    "train_dataset = mfcc_set(train_data, train_label)\n",
    "valid_dataset = mfcc_set(valid_data, valid_label)\n",
    "# set device\n",
    "device = torch.device('cuda:0' if torch.cuda.is_available() and Config['use_cuda'] else 'cpu')\n",
    "# set dataloaders\n",
    "train_loader = DataLoader(train_dataset, batch_size=128, shuffle=True)\n",
    "valid_loader = DataLoader(valid_dataset, batch_size=128, shuffle=False)\n",
    "\n",
    "# model configuration\n",
    "learning_rate = 0.001\n",
    "num_feature = 64\n",
    "hidden_size = 64\n",
    "\n",
    "model = Model(input_size=num_feature, hidden_size=hidden_size, output_size=3).to(device)\n",
    "loss_func = nn.CrossEntropyLoss(weight=torch.Tensor([147, 36, 99])).to(device)\n",
    "optimizer = torch.optim.Adam(model.parameters(), lr=learning_rate)\n",
    "# scheduler = torch.optim.lr_scheduler.StepLR(optimizer, step_size = 10, gamma=0.5)\n",
    "\n"
   ]
  },
  {
   "cell_type": "code",
   "execution_count": 35,
   "metadata": {
    "scrolled": true
   },
   "outputs": [
    {
     "name": "stderr",
     "output_type": "stream",
     "text": [
      "\n",
      "\n",
      "\n",
      "\n",
      "\n",
      "\n",
      "  0%|          | 0/25 [00:00<?, ?it/s]\u001b[A\u001b[A\u001b[A\u001b[A\u001b[A\u001b[A"
     ]
    },
    {
     "name": "stdout",
     "output_type": "stream",
     "text": [
      "Epoch: 01, Loss: 0.0059, Training ACC: 0.539\n"
     ]
    },
    {
     "name": "stderr",
     "output_type": "stream",
     "text": [
      "\n",
      "\n",
      "\n",
      "\n",
      "\n",
      "\n",
      "  4%|▍         | 1/25 [02:25<58:21, 145.91s/it]\u001b[A\u001b[A\u001b[A\u001b[A\u001b[A\u001b[A"
     ]
    },
    {
     "name": "stdout",
     "output_type": "stream",
     "text": [
      "Epoch: 01, Valid ACC in Sequence Model: 0.614\n",
      "Epoch: 02, Loss: 0.0041, Training ACC: 0.709\n"
     ]
    },
    {
     "name": "stderr",
     "output_type": "stream",
     "text": [
      "\n",
      "\n",
      "\n",
      "\n",
      "\n",
      "\n",
      "  8%|▊         | 2/25 [04:51<55:54, 145.83s/it]\u001b[A\u001b[A\u001b[A\u001b[A\u001b[A\u001b[A"
     ]
    },
    {
     "name": "stdout",
     "output_type": "stream",
     "text": [
      "Epoch: 02, Valid ACC in Sequence Model: 0.768\n",
      "Epoch: 03, Loss: 0.0029, Training ACC: 0.793\n"
     ]
    },
    {
     "name": "stderr",
     "output_type": "stream",
     "text": [
      "\n",
      "\n",
      "\n",
      "\n",
      "\n",
      "\n",
      " 12%|█▏        | 3/25 [07:17<53:30, 145.92s/it]\u001b[A\u001b[A\u001b[A\u001b[A\u001b[A\u001b[A"
     ]
    },
    {
     "name": "stdout",
     "output_type": "stream",
     "text": [
      "Epoch: 03, Valid ACC in Sequence Model: 0.817\n",
      "Epoch: 04, Loss: 0.0022, Training ACC: 0.837\n"
     ]
    },
    {
     "name": "stderr",
     "output_type": "stream",
     "text": [
      "\n",
      "\n",
      "\n",
      "\n",
      "\n",
      "\n",
      " 16%|█▌        | 4/25 [09:44<51:06, 146.04s/it]\u001b[A\u001b[A\u001b[A\u001b[A\u001b[A\u001b[A"
     ]
    },
    {
     "name": "stdout",
     "output_type": "stream",
     "text": [
      "Epoch: 04, Valid ACC in Sequence Model: 0.845\n",
      "Epoch: 05, Loss: 0.0018, Training ACC: 0.870\n"
     ]
    },
    {
     "name": "stderr",
     "output_type": "stream",
     "text": [
      "\n",
      "\n",
      "\n",
      "\n",
      "\n",
      "\n",
      " 20%|██        | 5/25 [12:10<48:42, 146.11s/it]\u001b[A\u001b[A\u001b[A\u001b[A\u001b[A\u001b[A"
     ]
    },
    {
     "name": "stdout",
     "output_type": "stream",
     "text": [
      "Epoch: 05, Valid ACC in Sequence Model: 0.851\n",
      "Epoch: 06, Loss: 0.0015, Training ACC: 0.887\n"
     ]
    },
    {
     "name": "stderr",
     "output_type": "stream",
     "text": [
      "\n",
      "\n",
      "\n",
      "\n",
      "\n",
      "\n",
      " 24%|██▍       | 6/25 [14:35<46:13, 145.98s/it]\u001b[A\u001b[A\u001b[A\u001b[A\u001b[A\u001b[A"
     ]
    },
    {
     "name": "stdout",
     "output_type": "stream",
     "text": [
      "Epoch: 06, Valid ACC in Sequence Model: 0.869\n",
      "Epoch: 07, Loss: 0.0013, Training ACC: 0.901\n"
     ]
    },
    {
     "name": "stderr",
     "output_type": "stream",
     "text": [
      "\n",
      "\n",
      "\n",
      "\n",
      "\n",
      "\n",
      " 28%|██▊       | 7/25 [17:01<43:47, 145.98s/it]\u001b[A\u001b[A\u001b[A\u001b[A\u001b[A\u001b[A"
     ]
    },
    {
     "name": "stdout",
     "output_type": "stream",
     "text": [
      "Epoch: 07, Valid ACC in Sequence Model: 0.881\n",
      "Epoch: 08, Loss: 0.0011, Training ACC: 0.918\n"
     ]
    },
    {
     "name": "stderr",
     "output_type": "stream",
     "text": [
      "\n",
      "\n",
      "\n",
      "\n",
      "\n",
      "\n",
      " 32%|███▏      | 8/25 [19:27<41:20, 145.93s/it]\u001b[A\u001b[A\u001b[A\u001b[A\u001b[A\u001b[A"
     ]
    },
    {
     "name": "stdout",
     "output_type": "stream",
     "text": [
      "Epoch: 08, Valid ACC in Sequence Model: 0.896\n",
      "Epoch: 09, Loss: 0.0009, Training ACC: 0.928\n"
     ]
    },
    {
     "name": "stderr",
     "output_type": "stream",
     "text": [
      "\n",
      "\n",
      "\n",
      "\n",
      "\n",
      "\n",
      " 36%|███▌      | 9/25 [21:53<38:55, 145.96s/it]\u001b[A\u001b[A\u001b[A\u001b[A\u001b[A\u001b[A"
     ]
    },
    {
     "name": "stdout",
     "output_type": "stream",
     "text": [
      "Epoch: 09, Valid ACC in Sequence Model: 0.880\n",
      "Epoch: 10, Loss: 0.0008, Training ACC: 0.936\n"
     ]
    },
    {
     "name": "stderr",
     "output_type": "stream",
     "text": [
      "\n",
      "\n",
      "\n",
      "\n",
      "\n",
      "\n",
      " 40%|████      | 10/25 [24:20<36:31, 146.12s/it]\u001b[A\u001b[A\u001b[A\u001b[A\u001b[A\u001b[A"
     ]
    },
    {
     "name": "stdout",
     "output_type": "stream",
     "text": [
      "Epoch: 10, Valid ACC in Sequence Model: 0.919\n",
      "Epoch: 11, Loss: 0.0008, Training ACC: 0.936\n"
     ]
    },
    {
     "name": "stderr",
     "output_type": "stream",
     "text": [
      "\n",
      "\n",
      "\n",
      "\n",
      "\n",
      "\n",
      " 44%|████▍     | 11/25 [26:46<34:06, 146.16s/it]\u001b[A\u001b[A\u001b[A\u001b[A\u001b[A\u001b[A"
     ]
    },
    {
     "name": "stdout",
     "output_type": "stream",
     "text": [
      "Epoch: 11, Valid ACC in Sequence Model: 0.908\n",
      "Epoch: 12, Loss: 0.0007, Training ACC: 0.951\n"
     ]
    },
    {
     "name": "stderr",
     "output_type": "stream",
     "text": [
      "\n",
      "\n",
      "\n",
      "\n",
      "\n",
      "\n",
      " 48%|████▊     | 12/25 [29:13<31:41, 146.30s/it]\u001b[A\u001b[A\u001b[A\u001b[A\u001b[A\u001b[A"
     ]
    },
    {
     "name": "stdout",
     "output_type": "stream",
     "text": [
      "Epoch: 12, Valid ACC in Sequence Model: 0.916\n",
      "Epoch: 13, Loss: 0.0006, Training ACC: 0.956\n"
     ]
    },
    {
     "name": "stderr",
     "output_type": "stream",
     "text": [
      "\n",
      "\n",
      "\n",
      "\n",
      "\n",
      "\n",
      " 52%|█████▏    | 13/25 [31:39<29:14, 146.19s/it]\u001b[A\u001b[A\u001b[A\u001b[A\u001b[A\u001b[A"
     ]
    },
    {
     "name": "stdout",
     "output_type": "stream",
     "text": [
      "Epoch: 13, Valid ACC in Sequence Model: 0.925\n",
      "Epoch: 14, Loss: 0.0005, Training ACC: 0.959\n"
     ]
    },
    {
     "name": "stderr",
     "output_type": "stream",
     "text": [
      "\n",
      "\n",
      "\n",
      "\n",
      "\n",
      "\n",
      " 56%|█████▌    | 14/25 [34:05<26:50, 146.37s/it]\u001b[A\u001b[A\u001b[A\u001b[A\u001b[A\u001b[A"
     ]
    },
    {
     "name": "stdout",
     "output_type": "stream",
     "text": [
      "Epoch: 14, Valid ACC in Sequence Model: 0.918\n",
      "Epoch: 15, Loss: 0.0006, Training ACC: 0.954\n"
     ]
    },
    {
     "name": "stderr",
     "output_type": "stream",
     "text": [
      "\n",
      "\n",
      "\n",
      "\n",
      "\n",
      "\n",
      " 60%|██████    | 15/25 [36:30<24:18, 145.83s/it]\u001b[A\u001b[A\u001b[A\u001b[A\u001b[A\u001b[A"
     ]
    },
    {
     "name": "stdout",
     "output_type": "stream",
     "text": [
      "Epoch: 15, Valid ACC in Sequence Model: 0.917\n",
      "Epoch: 16, Loss: 0.0005, Training ACC: 0.961\n"
     ]
    },
    {
     "name": "stderr",
     "output_type": "stream",
     "text": [
      "\n",
      "\n",
      "\n",
      "\n",
      "\n",
      "\n",
      " 64%|██████▍   | 16/25 [38:55<21:50, 145.56s/it]\u001b[A\u001b[A\u001b[A\u001b[A\u001b[A\u001b[A"
     ]
    },
    {
     "name": "stdout",
     "output_type": "stream",
     "text": [
      "Epoch: 16, Valid ACC in Sequence Model: 0.933\n",
      "Epoch: 17, Loss: 0.0005, Training ACC: 0.961\n"
     ]
    },
    {
     "name": "stderr",
     "output_type": "stream",
     "text": [
      "\n",
      "\n",
      "\n",
      "\n",
      "\n",
      "\n",
      " 68%|██████▊   | 17/25 [41:20<19:24, 145.55s/it]\u001b[A\u001b[A\u001b[A\u001b[A\u001b[A\u001b[A"
     ]
    },
    {
     "name": "stdout",
     "output_type": "stream",
     "text": [
      "Epoch: 17, Valid ACC in Sequence Model: 0.935\n",
      "Epoch: 18, Loss: 0.0005, Training ACC: 0.962\n"
     ]
    },
    {
     "name": "stderr",
     "output_type": "stream",
     "text": [
      "\n",
      "\n",
      "\n",
      "\n",
      "\n",
      "\n",
      " 72%|███████▏  | 18/25 [43:47<17:01, 145.88s/it]\u001b[A\u001b[A\u001b[A\u001b[A\u001b[A\u001b[A"
     ]
    },
    {
     "name": "stdout",
     "output_type": "stream",
     "text": [
      "Epoch: 18, Valid ACC in Sequence Model: 0.931\n",
      "Epoch: 19, Loss: 0.0005, Training ACC: 0.966\n"
     ]
    },
    {
     "name": "stderr",
     "output_type": "stream",
     "text": [
      "\n",
      "\n",
      "\n",
      "\n",
      "\n",
      "\n",
      " 76%|███████▌  | 19/25 [46:18<14:43, 147.26s/it]\u001b[A\u001b[A\u001b[A\u001b[A\u001b[A\u001b[A"
     ]
    },
    {
     "name": "stdout",
     "output_type": "stream",
     "text": [
      "Epoch: 19, Valid ACC in Sequence Model: 0.932\n",
      "Epoch: 20, Loss: 0.0004, Training ACC: 0.969\n"
     ]
    },
    {
     "name": "stderr",
     "output_type": "stream",
     "text": [
      "\n",
      "\n",
      "\n",
      "\n",
      "\n",
      "\n",
      " 80%|████████  | 20/25 [48:46<12:18, 147.73s/it]\u001b[A\u001b[A\u001b[A\u001b[A\u001b[A\u001b[A"
     ]
    },
    {
     "name": "stdout",
     "output_type": "stream",
     "text": [
      "Epoch: 20, Valid ACC in Sequence Model: 0.929\n",
      "Epoch: 21, Loss: 0.0003, Training ACC: 0.975\n"
     ]
    },
    {
     "name": "stderr",
     "output_type": "stream",
     "text": [
      "\n",
      "\n",
      "\n",
      "\n",
      "\n",
      "\n",
      " 84%|████████▍ | 21/25 [51:11<09:47, 146.86s/it]\u001b[A\u001b[A\u001b[A\u001b[A\u001b[A\u001b[A"
     ]
    },
    {
     "name": "stdout",
     "output_type": "stream",
     "text": [
      "Epoch: 21, Valid ACC in Sequence Model: 0.924\n",
      "Epoch: 22, Loss: 0.0004, Training ACC: 0.974\n"
     ]
    },
    {
     "name": "stderr",
     "output_type": "stream",
     "text": [
      "\n",
      "\n",
      "\n",
      "\n",
      "\n",
      "\n",
      " 88%|████████▊ | 22/25 [53:36<07:18, 146.19s/it]\u001b[A\u001b[A\u001b[A\u001b[A\u001b[A\u001b[A"
     ]
    },
    {
     "name": "stdout",
     "output_type": "stream",
     "text": [
      "Epoch: 22, Valid ACC in Sequence Model: 0.926\n",
      "Epoch: 23, Loss: 0.0004, Training ACC: 0.973\n"
     ]
    },
    {
     "name": "stderr",
     "output_type": "stream",
     "text": [
      "\n",
      "\n",
      "\n",
      "\n",
      "\n",
      "\n",
      " 92%|█████████▏| 23/25 [56:01<04:51, 145.82s/it]\u001b[A\u001b[A\u001b[A\u001b[A\u001b[A\u001b[A"
     ]
    },
    {
     "name": "stdout",
     "output_type": "stream",
     "text": [
      "Epoch: 23, Valid ACC in Sequence Model: 0.930\n",
      "Epoch: 24, Loss: 0.0003, Training ACC: 0.978\n"
     ]
    },
    {
     "name": "stderr",
     "output_type": "stream",
     "text": [
      "\n",
      "\n",
      "\n",
      "\n",
      "\n",
      "\n",
      " 96%|█████████▌| 24/25 [58:26<02:25, 145.53s/it]\u001b[A\u001b[A\u001b[A\u001b[A\u001b[A\u001b[A"
     ]
    },
    {
     "name": "stdout",
     "output_type": "stream",
     "text": [
      "Epoch: 24, Valid ACC in Sequence Model: 0.933\n",
      "Epoch: 25, Loss: 0.0004, Training ACC: 0.973\n"
     ]
    },
    {
     "name": "stderr",
     "output_type": "stream",
     "text": [
      "\n",
      "\n",
      "\n",
      "\n",
      "\n",
      "\n",
      "100%|██████████| 25/25 [1:00:50<00:00, 146.04s/it]\u001b[A\u001b[A\u001b[A\u001b[A\u001b[A\u001b[A"
     ]
    },
    {
     "name": "stdout",
     "output_type": "stream",
     "text": [
      "Epoch: 25, Valid ACC in Sequence Model: 0.941\n",
      "Finished Training\n"
     ]
    },
    {
     "name": "stderr",
     "output_type": "stream",
     "text": [
      "\n"
     ]
    }
   ],
   "source": [
    "### TRAIN\n",
    "train_acc = []\n",
    "valid_acc = []\n",
    "train_loss_list = []\n",
    "\n",
    "num_epochs = Config['num_epochs']\n",
    "model.train()\n",
    "\n",
    "\n",
    "for epoch in tqdm(range(num_epochs)):\n",
    "    count_right = 0\n",
    "    train_loss = 0\n",
    "    \n",
    "    for x, y in train_loader:\n",
    "        \n",
    "        x = x.to(device)\n",
    "        y = y[:,-1,:].to(device)\n",
    "        y = torch.argmax(y, axis=1).to(device)\n",
    "        yhat = model(x)[:,-1,:].to(device)\n",
    "        ytrue = y.cpu()\n",
    "        yres = yhat.cpu()\n",
    "        optimizer.zero_grad()\n",
    "        loss = loss_func(yhat, y)\n",
    "        \n",
    "        loss.backward()\n",
    "        optimizer.step()\n",
    "        # scheduler.step()\n",
    "        train_loss += loss\n",
    "        \n",
    "        with torch.no_grad():\n",
    "            count_right += torch.sum(torch.argmax(yres, axis=1)==ytrue).double()\n",
    "    \n",
    "    print(f'Epoch: {epoch+1:02d}, ' +\n",
    "          f'Loss: {train_loss / len(train_loader.dataset):.4f}, ' + \n",
    "          f'Training ACC: {count_right / len(train_loader.dataset):.3f}')\n",
    "    train_acc.append(count_right / len(train_loader.dataset))\n",
    "    train_loss_list.append(train_loss / len(train_loader.dataset))\n",
    "    curr_valid_acc = 0.0\n",
    "    best_valid_acc = 0.0\n",
    "    with torch.no_grad():\n",
    "        correct = 0.0\n",
    "        ## using the sequence model\n",
    "        for x, y in valid_loader:\n",
    "            x = x.to(device)\n",
    "            y = y[:,-1,:]\n",
    "            y = torch.argmax(y, axis=1)\n",
    "            yhat = model(x)[:,-1,:].cpu()\n",
    "            \n",
    "            correct += torch.sum(torch.argmax(yhat, axis=1)==y).double()\n",
    "        print(f'Epoch: {epoch+1:02d}, Valid ACC in Sequence Model: {correct / len(valid_loader.dataset):.3f}') \n",
    "    valid_acc.append(correct / len(valid_loader.dataset))\n",
    "    curr_valid_acc = correct / len(valid_loader.dataset)\n",
    "    if best_valid_acc < curr_valid_acc and epoch > Config['num_epochs'] - 10:\n",
    "        best_valid_acc = curr_valid_acc\n",
    "        best_model_wts = copy.deepcopy(model.state_dict())\n",
    "        torch.save(best_model_wts, osp.join(Config['root_path'], Config['checkpoint_path'], 'gru3.pth'))\n",
    "\n",
    "print('Finished Training')"
   ]
  },
  {
   "cell_type": "code",
   "execution_count": 36,
   "metadata": {},
   "outputs": [],
   "source": [
    "import matplotlib.pyplot as plt\n",
    "def plot_epoch(x_list, y_list, fname, num_epochs=Config['num_epochs'], accuracy=\"Accuracy\"):\n",
    "    l = [i for i in range(1, len(x_list)+1)]\n",
    "    new_ticks=np.linspace(0,num_epochs,6)\n",
    "    plt.plot(l, x_list,label=\"Training set\")\n",
    "    plt.plot(l, y_list,label=\"Validation set\")\n",
    "\n",
    "    plt.xticks(new_ticks)\n",
    "    plt.title(f\"{accuracy} Performance Versus Epoch\")\n",
    "    plt.legend(labels=[\"Training set\", \"Validation set\"],loc='best')\n",
    "    plt.xlabel(\"Epoches\")\n",
    "    plt.ylabel(accuracy)\n",
    "    plt.show()\n",
    "#     plt.savefig(fname=fname)\n",
    "#     plt.close()\n",
    "    return "
   ]
  },
  {
   "cell_type": "code",
   "execution_count": 37,
   "metadata": {},
   "outputs": [
    {
     "data": {
      "image/png": "[encoded data removed]",
      "text/plain": [
       "<Figure size 432x288 with 1 Axes>"
      ]
     },
     "metadata": {
      "needs_background": "light"
     },
     "output_type": "display_data"
    }
   ],
   "source": [
    "plot_epoch(train_acc, valid_acc, \"GRU_sequence_model.jpg\")"
   ]
  },
  {
   "cell_type": "code",
   "execution_count": 38,
   "metadata": {},
   "outputs": [],
   "source": [
    "def plot_epoch_loss(x_list, fname, num_epochs=Config['num_epochs'], accuracy=\"Loss\"):\n",
    "    l = [i for i in range(1, len(x_list)+1)]\n",
    "    new_ticks=np.linspace(0,num_epochs,6)\n",
    "    plt.plot(l, x_list,label=\"Training Loss\")\n",
    "\n",
    "    plt.xticks(new_ticks)\n",
    "    plt.title(f\"{accuracy} Performance Versus Epoch\")\n",
    "    plt.xlabel(\"Epoches\")\n",
    "    plt.ylabel(accuracy)\n",
    "    plt.show()\n",
    "#     plt.savefig(fname=fname)\n",
    "#     plt.close()\n",
    "    return "
   ]
  },
  {
   "cell_type": "code",
   "execution_count": 39,
   "metadata": {},
   "outputs": [
    {
     "data": {
      "image/png": "[encoded data removed]",
      "text/plain": [
       "<Figure size 432x288 with 1 Axes>"
      ]
     },
     "metadata": {
      "needs_background": "light"
     },
     "output_type": "display_data"
    }
   ],
   "source": [
    "plot_epoch_loss(train_loss_list,fname=\"GRU_sequence_loss\")"
   ]
  },
  {
   "cell_type": "code",
   "execution_count": null,
   "metadata": {},
   "outputs": [],
   "source": []
  }
 ],
 "metadata": {
  "kernelspec": {
   "display_name": "Environment (conda_pytorch_latest_p36)",
   "language": "python",
   "name": "conda_pytorch_latest_p36"
  },
  "language_info": {
   "codemirror_mode": {
    "name": "ipython",
    "version": 3
   },
   "file_extension": ".py",
   "mimetype": "text/x-python",
   "name": "python",
   "nbconvert_exporter": "python",
   "pygments_lexer": "ipython3",
   "version": "3.6.10"
  }
 },
 "nbformat": 4,
 "nbformat_minor": 4
}
