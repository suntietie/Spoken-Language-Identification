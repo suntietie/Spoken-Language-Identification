{
 "cells": [
  {
   "cell_type": "code",
   "execution_count": 1,
   "metadata": {},
   "outputs": [],
   "source": [
    "import torch\n",
    "import torch.nn as nn\n",
    "from torch.utils.data import Dataset, DataLoader\n",
    "import torch.nn.functional as F\n",
    "import numpy as np\n",
    "\n",
    "\n",
    "### DATA\n",
    "\n",
    "class mfcc_set(Dataset):\n",
    "    def __init__(self, X, y):\n",
    "        self.X = X\n",
    "        self.y = y\n",
    "\n",
    "    def __len__(self):\n",
    "        return len(self.X)\n",
    "\n",
    "    def __getitem__(self, index):\n",
    "        data = self.X[index:index+1]\n",
    "        # remove dimension 0\n",
    "        data = data.squeeze(0)\n",
    "        label = self.y[index]\n",
    "        return torch.Tensor(data), torch.Tensor(label)"
   ]
  },
  {
   "cell_type": "code",
   "execution_count": 10,
   "metadata": {},
   "outputs": [],
   "source": [
    "### MODEL\n",
    "num_feature = 2\n",
    "hidden_size = 4\n",
    "\n",
    "class Model(nn.Module):\n",
    "    def __init__(self, input_size, hidden_size, output_size):\n",
    "        super(Model, self).__init__()\n",
    "        \n",
    "        self.input_size = input_size\n",
    "        self.hidden_size = hidden_size\n",
    "        self.output_size = output_size\n",
    "        \n",
    "        self.rnn = nn.GRU(self.input_size, self.hidden_size, batch_first=True)\n",
    "        self.fc = nn.Linear(self.hidden_size, self.output_size)\n",
    "        \n",
    "        \n",
    "    # create function to init state\n",
    "    def init_hidden(self, batch_size):\n",
    "        return torch.zeros(1, batch_size, self.hidden_size)\n",
    "        \n",
    "    \n",
    "    def forward(self, x):     \n",
    "        batch_size = x.size(0)\n",
    "        h = self.init_hidden(batch_size)#.to(device)\n",
    "        print(h.shape)\n",
    "        out, h = self.rnn(x, h)       \n",
    "        out = self.fc(out)\n",
    "        \n",
    "        #return out, h\n",
    "        return out\n",
    "        \n",
    "    \n",
    "model = Model(input_size=num_feature, hidden_size=hidden_size, output_size=1)\n",
    "loss_func = nn.MSELoss()\n",
    "learning_rate = 0.01\n",
    "optimizer = torch.optim.Adam(model.parameters(), lr=learning_rate)\n",
    "\n"
   ]
  },
  {
   "cell_type": "markdown",
   "metadata": {},
   "source": [
    "# model experiment"
   ]
  },
  {
   "cell_type": "code",
   "execution_count": 11,
   "metadata": {},
   "outputs": [
    {
     "name": "stdout",
     "output_type": "stream",
     "text": [
      "torch.Size([1, 2, 4])\n",
      "tensor([[[-1.3263, -0.9296]],\n",
      "\n",
      "        [[ 0.4254,  0.9082]]])\n",
      "torch.Size([2, 1, 2])\n",
      "tensor([[[-0.2312]],\n",
      "\n",
      "        [[-0.0274]]], grad_fn=<AddBackward0>)\n",
      "torch.Size([2, 1, 1])\n"
     ]
    }
   ],
   "source": [
    "# num_feature = 64\n",
    "# len_seq = 800\n",
    "# batch_size = \n",
    "# h_size = (1, batch_size, hidden_size) --- (1,2,4)\n",
    "# x_size = (batch_size, len_seq, num_feature) \n",
    "# y_size = (batch_size, len_seq, output_size=3)\n",
    "batch_size = 2\n",
    "x = torch.randn(batch_size, 1, num_feature)\n",
    "ytest = model(\n",
    "    x,\n",
    "    # torch.zeros([1, batch_size, 4])\n",
    ")\n",
    "print(x)\n",
    "print(x.shape)\n",
    "print(ytest)\n",
    "print(ytest.shape)\n"
   ]
  },
  {
   "cell_type": "code",
   "execution_count": null,
   "metadata": {},
   "outputs": [],
   "source": [
    "### TRAIN\n",
    "\n",
    "num_epochs = 25\n",
    "model.train()\n",
    "\n",
    "for epoch in range(num_epochs):\n",
    "    train_loss = 0\n",
    "    \n",
    "    for x, y in train_dataloader:\n",
    "        x = x.to(device)\n",
    "        y = y.to(device)\n",
    "        \n",
    "        yhat = model(x)\n",
    "        loss = loss_func(yhat, y)\n",
    "        #loss = loss_func(yhat[:, 1:, :], y[:, 1:, :])\n",
    "        \n",
    "        model.zero_grad()\n",
    "        loss.backward()\n",
    "        optimizer.step()\n",
    "        \n",
    "        train_loss += loss\n",
    "    \n",
    "    if not (epoch % 1):\n",
    "        print(f'Epoch: {epoch+1:02d}, ' +\n",
    "              f'Loss: {train_loss / len(train_dataloader.dataset):.4f}')\n",
    "\n",
    "print('Finished Training')\n",
    "\n",
    "\n",
    "\n",
    "\n",
    "### TEST\n",
    "\n",
    "model.eval()\n",
    "\n",
    "for test_seq_length in [train_seq_length, 1000, 4]:    \n",
    "    test_dataset = Dataset(test_num_seq, test_seq_length, num_feature)\n",
    "    test_dataloader = DataLoader(test_dataset, batch_size=2, shuffle=False)\n",
    "    \n",
    "    test_loss = 0\n",
    "    \n",
    "    for x, y in test_dataloader:\n",
    "        x = x.to(device)\n",
    "        y = y.to(device)\n",
    "\n",
    "        with torch.no_grad():\n",
    "            yhat = model(x)\n",
    "\n",
    "        loss = loss_func(yhat, y)\n",
    "        #loss = loss_func(yhat[:, 1:, :], y[:, 1:, :])\n",
    "        test_loss += loss\n",
    "\n",
    "    print(f'Average: Loss:{test_loss / len(test_dataloader.dataset):.4f}, seq_length:{test_seq_length}')"
   ]
  },
  {
   "cell_type": "code",
   "execution_count": null,
   "metadata": {},
   "outputs": [],
   "source": [
    "import h5py\n"
   ]
  }
 ],
 "metadata": {
  "kernelspec": {
   "display_name": "Python 3.8.5 64-bit ('ee599': conda)",
   "language": "python",
   "name": "python38564bitee599condaf7b1b4abfecd4522abe46ac4dc588330"
  },
  "language_info": {
   "codemirror_mode": {
    "name": "ipython",
    "version": 3
   },
   "file_extension": ".py",
   "mimetype": "text/x-python",
   "name": "python",
   "nbconvert_exporter": "python",
   "pygments_lexer": "ipython3",
   "version": "3.7.7"
  }
 },
 "nbformat": 4,
 "nbformat_minor": 4
}
